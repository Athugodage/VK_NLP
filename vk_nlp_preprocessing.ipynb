{
  "nbformat": 4,
  "nbformat_minor": 0,
  "metadata": {
    "colab": {
      "provenance": [],
      "authorship_tag": "ABX9TyPA/papPTqy2KPrrWr1/gv1",
      "include_colab_link": true
    },
    "kernelspec": {
      "name": "python3",
      "display_name": "Python 3"
    },
    "language_info": {
      "name": "python"
    }
  },
  "cells": [
    {
      "cell_type": "markdown",
      "metadata": {
        "id": "view-in-github",
        "colab_type": "text"
      },
      "source": [
        "<a href=\"https://colab.research.google.com/github/Athugodage/VK_NLP/blob/main/vk_nlp_preprocessing.ipynb\" target=\"_parent\"><img src=\"https://colab.research.google.com/assets/colab-badge.svg\" alt=\"Open In Colab\"/></a>"
      ]
    },
    {
      "cell_type": "code",
      "source": [
        "!pip install razdel emoji translate"
      ],
      "metadata": {
        "colab": {
          "base_uri": "https://localhost:8080/"
        },
        "id": "SZWq4Hj_uHDH",
        "outputId": "33c063ae-e6f5-41fb-b12b-40834416a6c1"
      },
      "execution_count": null,
      "outputs": [
        {
          "output_type": "stream",
          "name": "stdout",
          "text": [
            "Collecting razdel\n",
            "  Downloading razdel-0.5.0-py3-none-any.whl (21 kB)\n",
            "Collecting emoji\n",
            "  Downloading emoji-2.6.0.tar.gz (356 kB)\n",
            "\u001b[2K     \u001b[90m━━━━━━━━━━━━━━━━━━━━━━━━━━━━━━━━━━━━━━━\u001b[0m \u001b[32m356.6/356.6 kB\u001b[0m \u001b[31m7.4 MB/s\u001b[0m eta \u001b[36m0:00:00\u001b[0m\n",
            "\u001b[?25h  Preparing metadata (setup.py) ... \u001b[?25l\u001b[?25hdone\n",
            "Collecting googletrans\n",
            "  Downloading googletrans-3.0.0.tar.gz (17 kB)\n",
            "  Preparing metadata (setup.py) ... \u001b[?25l\u001b[?25hdone\n",
            "Collecting httpx==0.13.3 (from googletrans)\n",
            "  Downloading httpx-0.13.3-py3-none-any.whl (55 kB)\n",
            "\u001b[2K     \u001b[90m━━━━━━━━━━━━━━━━━━━━━━━━━━━━━━━━━━━━━━━━\u001b[0m \u001b[32m55.1/55.1 kB\u001b[0m \u001b[31m5.5 MB/s\u001b[0m eta \u001b[36m0:00:00\u001b[0m\n",
            "\u001b[?25hRequirement already satisfied: certifi in /usr/local/lib/python3.10/dist-packages (from httpx==0.13.3->googletrans) (2023.5.7)\n",
            "Collecting hstspreload (from httpx==0.13.3->googletrans)\n",
            "  Downloading hstspreload-2023.1.1-py3-none-any.whl (1.5 MB)\n",
            "\u001b[2K     \u001b[90m━━━━━━━━━━━━━━━━━━━━━━━━━━━━━━━━━━━━━━━━\u001b[0m \u001b[32m1.5/1.5 MB\u001b[0m \u001b[31m38.3 MB/s\u001b[0m eta \u001b[36m0:00:00\u001b[0m\n",
            "\u001b[?25hRequirement already satisfied: sniffio in /usr/local/lib/python3.10/dist-packages (from httpx==0.13.3->googletrans) (1.3.0)\n",
            "Collecting chardet==3.* (from httpx==0.13.3->googletrans)\n",
            "  Downloading chardet-3.0.4-py2.py3-none-any.whl (133 kB)\n",
            "\u001b[2K     \u001b[90m━━━━━━━━━━━━━━━━━━━━━━━━━━━━━━━━━━━━━━\u001b[0m \u001b[32m133.4/133.4 kB\u001b[0m \u001b[31m13.9 MB/s\u001b[0m eta \u001b[36m0:00:00\u001b[0m\n",
            "\u001b[?25hCollecting idna==2.* (from httpx==0.13.3->googletrans)\n",
            "  Downloading idna-2.10-py2.py3-none-any.whl (58 kB)\n",
            "\u001b[2K     \u001b[90m━━━━━━━━━━━━━━━━━━━━━━━━━━━━━━━━━━━━━━━━\u001b[0m \u001b[32m58.8/58.8 kB\u001b[0m \u001b[31m6.4 MB/s\u001b[0m eta \u001b[36m0:00:00\u001b[0m\n",
            "\u001b[?25hCollecting rfc3986<2,>=1.3 (from httpx==0.13.3->googletrans)\n",
            "  Downloading rfc3986-1.5.0-py2.py3-none-any.whl (31 kB)\n",
            "Collecting httpcore==0.9.* (from httpx==0.13.3->googletrans)\n",
            "  Downloading httpcore-0.9.1-py3-none-any.whl (42 kB)\n",
            "\u001b[2K     \u001b[90m━━━━━━━━━━━━━━━━━━━━━━━━━━━━━━━━━━━━━━━━\u001b[0m \u001b[32m42.6/42.6 kB\u001b[0m \u001b[31m4.6 MB/s\u001b[0m eta \u001b[36m0:00:00\u001b[0m\n",
            "\u001b[?25hCollecting h11<0.10,>=0.8 (from httpcore==0.9.*->httpx==0.13.3->googletrans)\n",
            "  Downloading h11-0.9.0-py2.py3-none-any.whl (53 kB)\n",
            "\u001b[2K     \u001b[90m━━━━━━━━━━━━━━━━━━━━━━━━━━━━━━━━━━━━━━━━\u001b[0m \u001b[32m53.6/53.6 kB\u001b[0m \u001b[31m6.1 MB/s\u001b[0m eta \u001b[36m0:00:00\u001b[0m\n",
            "\u001b[?25hCollecting h2==3.* (from httpcore==0.9.*->httpx==0.13.3->googletrans)\n",
            "  Downloading h2-3.2.0-py2.py3-none-any.whl (65 kB)\n",
            "\u001b[2K     \u001b[90m━━━━━━━━━━━━━━━━━━━━━━━━━━━━━━━━━━━━━━━━\u001b[0m \u001b[32m65.0/65.0 kB\u001b[0m \u001b[31m6.6 MB/s\u001b[0m eta \u001b[36m0:00:00\u001b[0m\n",
            "\u001b[?25hCollecting hyperframe<6,>=5.2.0 (from h2==3.*->httpcore==0.9.*->httpx==0.13.3->googletrans)\n",
            "  Downloading hyperframe-5.2.0-py2.py3-none-any.whl (12 kB)\n",
            "Collecting hpack<4,>=3.0 (from h2==3.*->httpcore==0.9.*->httpx==0.13.3->googletrans)\n",
            "  Downloading hpack-3.0.0-py2.py3-none-any.whl (38 kB)\n",
            "Building wheels for collected packages: emoji, googletrans\n",
            "  Building wheel for emoji (setup.py) ... \u001b[?25l\u001b[?25hdone\n",
            "  Created wheel for emoji: filename=emoji-2.6.0-py2.py3-none-any.whl size=351311 sha256=aff511bb573a04c0570eaba84cabf580571927d1d56dbefa8ba34ee752a2d97a\n",
            "  Stored in directory: /root/.cache/pip/wheels/ea/0b/64/114bc939d0083621aa41521e21be246c888260b8aa21e6c1ad\n",
            "  Building wheel for googletrans (setup.py) ... \u001b[?25l\u001b[?25hdone\n",
            "  Created wheel for googletrans: filename=googletrans-3.0.0-py3-none-any.whl size=15721 sha256=91f3d9606bcde7b0abe5735c53508988bb50a7004e3d25d39df8e71617829f60\n",
            "  Stored in directory: /root/.cache/pip/wheels/b3/81/ea/8b030407f8ebfc2f857814e086bb22ca2d4fea1a7be63652ab\n",
            "Successfully built emoji googletrans\n",
            "Installing collected packages: rfc3986, razdel, hyperframe, hpack, h11, chardet, idna, hstspreload, h2, emoji, httpcore, httpx, googletrans\n",
            "  Attempting uninstall: chardet\n",
            "    Found existing installation: chardet 4.0.0\n",
            "    Uninstalling chardet-4.0.0:\n",
            "      Successfully uninstalled chardet-4.0.0\n",
            "  Attempting uninstall: idna\n",
            "    Found existing installation: idna 3.4\n",
            "    Uninstalling idna-3.4:\n",
            "      Successfully uninstalled idna-3.4\n",
            "Successfully installed chardet-3.0.4 emoji-2.6.0 googletrans-3.0.0 h11-0.9.0 h2-3.2.0 hpack-3.0.0 hstspreload-2023.1.1 httpcore-0.9.1 httpx-0.13.3 hyperframe-5.2.0 idna-2.10 razdel-0.5.0 rfc3986-1.5.0\n"
          ]
        }
      ]
    },
    {
      "cell_type": "code",
      "execution_count": null,
      "metadata": {
        "id": "SszMweuTCsRA"
      },
      "outputs": [],
      "source": [
        "import pandas as pd\n",
        "\n",
        "df = pd.read_csv('/content/posts.csv', encoding='utf8', delimiter=',')"
      ]
    },
    {
      "cell_type": "code",
      "source": [
        "\n",
        "def clean(text):\n",
        "  text =  re.sub('[http|www].*', '', text)\n",
        "  text = re.sub('[#|@][А-яЁёA-z]', '', text)\n",
        "\n",
        "  return text\n",
        "\n",
        "df['text'] = df['text'].apply(clean)"
      ],
      "metadata": {
        "id": "lWtBT9PtF2Td"
      },
      "execution_count": null,
      "outputs": []
    },
    {
      "cell_type": "code",
      "source": [
        "df['text'].iloc[19]"
      ],
      "metadata": {
        "colab": {
          "base_uri": "https://localhost:8080/",
          "height": 182
        },
        "id": "NjsdFULnF8Co",
        "outputId": "56feb532-c04e-428a-acc0-23f436438939"
      },
      "execution_count": null,
      "outputs": [
        {
          "output_type": "execute_result",
          "data": {
            "text/plain": [
              "' Лучший детский сад Башкирии : муниципальный этап народного голосования Совместно с Министерством образования и науки РБ запускаем муниципальный этап голосования по лучшему Детскому саду Башкирии по мнению жителей региона. Показать ещё Муниципальный этап голосования пройдёт с 21 июня по 18 июля 2023 года в сообществе Башкирия Online. Региональный этап голосования( участники — победители муниципального этапа голосования + лучшие по числу голосов среди занявших 2 и 3 места) пройдёт с 19 июля по 18 августа 2023 года в сообществе ИА\" Башинформ\". Подведение итогов конкурса состоится в августе 2023 года. Торжественное награждение победителей состоится 27 сентября - в День работников дошкольного образования. Чтобы проголосовать, перейдите по ссылке своего муниципалитета и выберите участника : ГО г. Агидель : '"
            ],
            "application/vnd.google.colaboratory.intrinsic+json": {
              "type": "string"
            }
          },
          "metadata": {},
          "execution_count": 99
        }
      ]
    },
    {
      "cell_type": "code",
      "source": [
        "from razdel import tokenize\n",
        "from tqdm import tqdm\n",
        "import re\n",
        "\n",
        "tqdm.pandas()\n",
        "\n",
        "def check_token(word):\n",
        "\n",
        "  m  = re.search('[а-яё][А-ЯЁ]', word)\n",
        "  if m:\n",
        "    word = word[:m.span()[0]+1]+'. '+word[m.span()[0]+1:]\n",
        "\n",
        "  return word\n",
        "\n",
        "def text2tokens(text):\n",
        "  signs = ('!', '?', ',', '.', '\"', ')', '(',)\n",
        "  tokens = ''\n",
        "  tokenized = list(tokenize(str(text)))\n",
        "\n",
        "  for token in tokenized:\n",
        "    token = check_token(token.text)\n",
        "    if any(sign in token for sign in signs) == False:\n",
        "      tokens += ' '\n",
        "\n",
        "    tokens += token\n",
        "\n",
        "  return tokens\n",
        "\n",
        "\n",
        "df['text'] = df['text'].progress_apply(text2tokens)\n"
      ],
      "metadata": {
        "colab": {
          "base_uri": "https://localhost:8080/"
        },
        "id": "DP0OEpkPSIJN",
        "outputId": "b65c08cd-005b-4896-afe7-baa21b377aec"
      },
      "execution_count": null,
      "outputs": [
        {
          "output_type": "stream",
          "name": "stderr",
          "text": [
            "100%|██████████| 84672/84672 [02:29<00:00, 568.06it/s]\n"
          ]
        }
      ]
    },
    {
      "cell_type": "code",
      "source": [
        "import emoji\n",
        "from translate import Translator\n",
        "\n",
        "translator= Translator(to_lang=\"ru\")\n",
        "\n",
        "def emoji2text(text, emoji, translator):\n",
        "\n",
        "  demojized = emoji.demojize(text)\n",
        "\n",
        "  while re.search(':[A-z]+:', text):\n",
        "    f = re.search(':[A-z]+:', text)\n",
        "\n",
        "    emoji = f.group(0)\n",
        "    print(emoji)\n",
        "    translated = translator.translate(str(emoji))\n",
        "\n",
        "    text = text[:f.span()[0]] + translated + text[f.span()[1]:]\n",
        "\n",
        "  return text\n",
        "\n",
        "\n",
        "df['text'] = df['text'].progress_apply(lambda x: emoji2text(x, emoji, translator))"
      ],
      "metadata": {
        "colab": {
          "base_uri": "https://localhost:8080/"
        },
        "id": "dyaTf2sHzZSg",
        "outputId": "4db43bf7-24f3-45d6-8d0f-5e204f604e8c"
      },
      "execution_count": null,
      "outputs": [
        {
          "output_type": "stream",
          "name": "stderr",
          "text": [
            "100%|██████████| 84672/84672 [01:27<00:00, 965.20it/s]\n"
          ]
        }
      ]
    },
    {
      "cell_type": "code",
      "source": [
        "df['text'].iloc[19]"
      ],
      "metadata": {
        "colab": {
          "base_uri": "https://localhost:8080/",
          "height": 182
        },
        "id": "1Wke9V-eEnbu",
        "outputId": "e0fb3eed-44ed-43df-f3a1-4dabefd62e74"
      },
      "execution_count": null,
      "outputs": [
        {
          "output_type": "execute_result",
          "data": {
            "text/plain": [
              "' Лучший детский сад Башкирии : муниципальный этап народного голосования Совместно с Министерством образования и науки РБ запускаем муниципальный этап голосования по лучшему Детскому саду Башкирии по мнению жителей региона. Показать ещё Муниципальный этап голосования пройдёт с 21 июня по 18 июля 2023 года в сообществе Башкирия Online. Региональный этап голосования( участники — победители муниципального этапа голосования + лучшие по числу голосов среди занявших 2 и 3 места) пройдёт с 19 июля по 18 августа 2023 года в сообществе ИА\" Башинформ\". Подведение итогов конкурса состоится в августе 2023 года. Торжественное награждение победителей состоится 27 сентября - в День работников дошкольного образования. Чтобы проголосовать, перейдите по ссылке своего муниципалитета и выберите участника : ГО г. Агидель :'"
            ],
            "application/vnd.google.colaboratory.intrinsic+json": {
              "type": "string"
            }
          },
          "metadata": {},
          "execution_count": 103
        }
      ]
    }
  ]
}