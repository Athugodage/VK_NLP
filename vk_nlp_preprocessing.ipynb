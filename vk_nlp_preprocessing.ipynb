{
  "nbformat": 4,
  "nbformat_minor": 0,
  "metadata": {
    "colab": {
      "provenance": [],
      "authorship_tag": "ABX9TyMRv/G5+cwPeudayqyYFYx1",
      "include_colab_link": true
    },
    "kernelspec": {
      "name": "python3",
      "display_name": "Python 3"
    },
    "language_info": {
      "name": "python"
    }
  },
  "cells": [
    {
      "cell_type": "markdown",
      "metadata": {
        "id": "view-in-github",
        "colab_type": "text"
      },
      "source": [
        "<a href=\"https://colab.research.google.com/github/Athugodage/VK_NLP/blob/main/vk_nlp_preprocessing.ipynb\" target=\"_parent\"><img src=\"https://colab.research.google.com/assets/colab-badge.svg\" alt=\"Open In Colab\"/></a>"
      ]
    },
    {
      "cell_type": "code",
      "source": [
        "!git clone https://github.com/Athugodage/VK_NLP"
      ],
      "metadata": {
        "colab": {
          "base_uri": "https://localhost:8080/"
        },
        "id": "-GFD9VKjDe2L",
        "outputId": "df54568d-c4bf-4fc8-bfee-ea5118e25f4d"
      },
      "execution_count": 1,
      "outputs": [
        {
          "output_type": "stream",
          "name": "stdout",
          "text": [
            "Cloning into 'VK_NLP'...\n",
            "remote: Enumerating objects: 23, done.\u001b[K\n",
            "remote: Counting objects: 100% (23/23), done.\u001b[K\n",
            "remote: Compressing objects: 100% (20/20), done.\u001b[K\n",
            "remote: Total 23 (delta 2), reused 17 (delta 0), pack-reused 0\u001b[K\n",
            "Unpacking objects: 100% (23/23), 27.83 KiB | 2.32 MiB/s, done.\n"
          ]
        }
      ]
    },
    {
      "cell_type": "code",
      "source": [
        "!pip install razdel emoji translate"
      ],
      "metadata": {
        "colab": {
          "base_uri": "https://localhost:8080/"
        },
        "id": "SZWq4Hj_uHDH",
        "outputId": "33c063ae-e6f5-41fb-b12b-40834416a6c1"
      },
      "execution_count": 7,
      "outputs": [
        {
          "output_type": "stream",
          "name": "stdout",
          "text": [
            "Collecting razdel\n",
            "  Downloading razdel-0.5.0-py3-none-any.whl (21 kB)\n",
            "Collecting emoji\n",
            "  Downloading emoji-2.6.0.tar.gz (356 kB)\n",
            "\u001b[2K     \u001b[90m━━━━━━━━━━━━━━━━━━━━━━━━━━━━━━━━━━━━━━━\u001b[0m \u001b[32m356.6/356.6 kB\u001b[0m \u001b[31m7.4 MB/s\u001b[0m eta \u001b[36m0:00:00\u001b[0m\n",
            "\u001b[?25h  Preparing metadata (setup.py) ... \u001b[?25l\u001b[?25hdone\n",
            "Collecting googletrans\n",
            "  Downloading googletrans-3.0.0.tar.gz (17 kB)\n",
            "  Preparing metadata (setup.py) ... \u001b[?25l\u001b[?25hdone\n",
            "Collecting httpx==0.13.3 (from googletrans)\n",
            "  Downloading httpx-0.13.3-py3-none-any.whl (55 kB)\n",
            "\u001b[2K     \u001b[90m━━━━━━━━━━━━━━━━━━━━━━━━━━━━━━━━━━━━━━━━\u001b[0m \u001b[32m55.1/55.1 kB\u001b[0m \u001b[31m5.5 MB/s\u001b[0m eta \u001b[36m0:00:00\u001b[0m\n",
            "\u001b[?25hRequirement already satisfied: certifi in /usr/local/lib/python3.10/dist-packages (from httpx==0.13.3->googletrans) (2023.5.7)\n",
            "Collecting hstspreload (from httpx==0.13.3->googletrans)\n",
            "  Downloading hstspreload-2023.1.1-py3-none-any.whl (1.5 MB)\n",
            "\u001b[2K     \u001b[90m━━━━━━━━━━━━━━━━━━━━━━━━━━━━━━━━━━━━━━━━\u001b[0m \u001b[32m1.5/1.5 MB\u001b[0m \u001b[31m38.3 MB/s\u001b[0m eta \u001b[36m0:00:00\u001b[0m\n",
            "\u001b[?25hRequirement already satisfied: sniffio in /usr/local/lib/python3.10/dist-packages (from httpx==0.13.3->googletrans) (1.3.0)\n",
            "Collecting chardet==3.* (from httpx==0.13.3->googletrans)\n",
            "  Downloading chardet-3.0.4-py2.py3-none-any.whl (133 kB)\n",
            "\u001b[2K     \u001b[90m━━━━━━━━━━━━━━━━━━━━━━━━━━━━━━━━━━━━━━\u001b[0m \u001b[32m133.4/133.4 kB\u001b[0m \u001b[31m13.9 MB/s\u001b[0m eta \u001b[36m0:00:00\u001b[0m\n",
            "\u001b[?25hCollecting idna==2.* (from httpx==0.13.3->googletrans)\n",
            "  Downloading idna-2.10-py2.py3-none-any.whl (58 kB)\n",
            "\u001b[2K     \u001b[90m━━━━━━━━━━━━━━━━━━━━━━━━━━━━━━━━━━━━━━━━\u001b[0m \u001b[32m58.8/58.8 kB\u001b[0m \u001b[31m6.4 MB/s\u001b[0m eta \u001b[36m0:00:00\u001b[0m\n",
            "\u001b[?25hCollecting rfc3986<2,>=1.3 (from httpx==0.13.3->googletrans)\n",
            "  Downloading rfc3986-1.5.0-py2.py3-none-any.whl (31 kB)\n",
            "Collecting httpcore==0.9.* (from httpx==0.13.3->googletrans)\n",
            "  Downloading httpcore-0.9.1-py3-none-any.whl (42 kB)\n",
            "\u001b[2K     \u001b[90m━━━━━━━━━━━━━━━━━━━━━━━━━━━━━━━━━━━━━━━━\u001b[0m \u001b[32m42.6/42.6 kB\u001b[0m \u001b[31m4.6 MB/s\u001b[0m eta \u001b[36m0:00:00\u001b[0m\n",
            "\u001b[?25hCollecting h11<0.10,>=0.8 (from httpcore==0.9.*->httpx==0.13.3->googletrans)\n",
            "  Downloading h11-0.9.0-py2.py3-none-any.whl (53 kB)\n",
            "\u001b[2K     \u001b[90m━━━━━━━━━━━━━━━━━━━━━━━━━━━━━━━━━━━━━━━━\u001b[0m \u001b[32m53.6/53.6 kB\u001b[0m \u001b[31m6.1 MB/s\u001b[0m eta \u001b[36m0:00:00\u001b[0m\n",
            "\u001b[?25hCollecting h2==3.* (from httpcore==0.9.*->httpx==0.13.3->googletrans)\n",
            "  Downloading h2-3.2.0-py2.py3-none-any.whl (65 kB)\n",
            "\u001b[2K     \u001b[90m━━━━━━━━━━━━━━━━━━━━━━━━━━━━━━━━━━━━━━━━\u001b[0m \u001b[32m65.0/65.0 kB\u001b[0m \u001b[31m6.6 MB/s\u001b[0m eta \u001b[36m0:00:00\u001b[0m\n",
            "\u001b[?25hCollecting hyperframe<6,>=5.2.0 (from h2==3.*->httpcore==0.9.*->httpx==0.13.3->googletrans)\n",
            "  Downloading hyperframe-5.2.0-py2.py3-none-any.whl (12 kB)\n",
            "Collecting hpack<4,>=3.0 (from h2==3.*->httpcore==0.9.*->httpx==0.13.3->googletrans)\n",
            "  Downloading hpack-3.0.0-py2.py3-none-any.whl (38 kB)\n",
            "Building wheels for collected packages: emoji, googletrans\n",
            "  Building wheel for emoji (setup.py) ... \u001b[?25l\u001b[?25hdone\n",
            "  Created wheel for emoji: filename=emoji-2.6.0-py2.py3-none-any.whl size=351311 sha256=aff511bb573a04c0570eaba84cabf580571927d1d56dbefa8ba34ee752a2d97a\n",
            "  Stored in directory: /root/.cache/pip/wheels/ea/0b/64/114bc939d0083621aa41521e21be246c888260b8aa21e6c1ad\n",
            "  Building wheel for googletrans (setup.py) ... \u001b[?25l\u001b[?25hdone\n",
            "  Created wheel for googletrans: filename=googletrans-3.0.0-py3-none-any.whl size=15721 sha256=91f3d9606bcde7b0abe5735c53508988bb50a7004e3d25d39df8e71617829f60\n",
            "  Stored in directory: /root/.cache/pip/wheels/b3/81/ea/8b030407f8ebfc2f857814e086bb22ca2d4fea1a7be63652ab\n",
            "Successfully built emoji googletrans\n",
            "Installing collected packages: rfc3986, razdel, hyperframe, hpack, h11, chardet, idna, hstspreload, h2, emoji, httpcore, httpx, googletrans\n",
            "  Attempting uninstall: chardet\n",
            "    Found existing installation: chardet 4.0.0\n",
            "    Uninstalling chardet-4.0.0:\n",
            "      Successfully uninstalled chardet-4.0.0\n",
            "  Attempting uninstall: idna\n",
            "    Found existing installation: idna 3.4\n",
            "    Uninstalling idna-3.4:\n",
            "      Successfully uninstalled idna-3.4\n",
            "Successfully installed chardet-3.0.4 emoji-2.6.0 googletrans-3.0.0 h11-0.9.0 h2-3.2.0 hpack-3.0.0 hstspreload-2023.1.1 httpcore-0.9.1 httpx-0.13.3 hyperframe-5.2.0 idna-2.10 razdel-0.5.0 rfc3986-1.5.0\n"
          ]
        }
      ]
    },
    {
      "cell_type": "code",
      "execution_count": 59,
      "metadata": {
        "id": "SszMweuTCsRA"
      },
      "outputs": [],
      "source": [
        "import pandas as pd\n",
        "\n",
        "df = pd.read_csv('/content/posts.csv', encoding='utf8', delimiter=',')"
      ]
    },
    {
      "cell_type": "code",
      "source": [
        "from razdel import tokenize\n",
        "\n",
        "df['length'] = df['text'].apply(lambda x: len(list(tokenize(str(x)))))"
      ],
      "metadata": {
        "id": "-YrPIG0u7sp8"
      },
      "execution_count": 60,
      "outputs": []
    },
    {
      "cell_type": "code",
      "source": [
        "df = df[df['length'] > 30]"
      ],
      "metadata": {
        "id": "-K6V_8lH8Qm-"
      },
      "execution_count": 61,
      "outputs": []
    },
    {
      "cell_type": "code",
      "source": [
        "df"
      ],
      "metadata": {
        "colab": {
          "base_uri": "https://localhost:8080/",
          "height": 1000
        },
        "id": "RbO-B_q-DrO4",
        "outputId": "1a15c359-3e3d-43b1-9c9b-a0badd8e6f13"
      },
      "execution_count": 62,
      "outputs": [
        {
          "output_type": "execute_result",
          "data": {
            "text/plain": [
              "          id                                               text  \\\n",
              "0       1056  С днем защиты детей! В АРТКВАДРАТЕ прошёл конк...   \n",
              "1       1057  Сегодня с детьми младшей группы \"Капельки\" про...   \n",
              "2       1058  Мы идём, тик-так , идёмСтрелки крутим день за ...   \n",
              "3       1059  Всю-то ночь часы стучат.Ни минуты не молчат!Я ...   \n",
              "5       1061  Лето- время не только для отдыха и игр, но и в...   \n",
              "...      ...                                                ...   \n",
              "123155  1044  ПРИМИ УЧАСТИЕ В ПРАЗДНИЧНОМ ОНЛАЙН-ФЛЕШМОБЕ Еж...   \n",
              "123156  1045  ВЫСТАВКА ТВОРЧЕСКИЙ КАЛЕЙДОСКОП 22 июня в Цент...   \n",
              "123157  1046  ДЕТСКИЕ ДВОРОВЫЕ ПЛОЩАДКИ  Не знаете как прове...   \n",
              "123158  1047  Сегодня в парке «Первомайский» состоялось торж...   \n",
              "123160  1049  С 26 по 28 июня 2023 года в Уфе состоится юбил...   \n",
              "\n",
              "                 view_hash            time  \\\n",
              "0       2fb021d8a04054db2b    2 июн в 9:45   \n",
              "1       2fb021d8a04054db2b   25 июн в 7:36   \n",
              "2       2fb021d8a04054db2b   25 июн в 7:36   \n",
              "3       2fb021d8a04054db2b   25 июн в 7:36   \n",
              "5       2fb021d8a04054db2b   23 июн в 5:45   \n",
              "...                    ...             ...   \n",
              "123155  2fb021d8a04054db2b   3 июл в 14:29   \n",
              "123156  2fb021d8a04054db2b   3 июл в 12:00   \n",
              "123157  2fb021d8a04054db2b   3 июл в 10:00   \n",
              "123158  2fb021d8a04054db2b   1 июл в 20:00   \n",
              "123160  2fb021d8a04054db2b  21 июн в 15:14   \n",
              "\n",
              "                                       url  likes  funny  wow  delight  \\\n",
              "0       https://vk.com/wall-180916324_1490      5      0    0        0   \n",
              "1        https://vk.com/wall-216943317_567     17      0    0        0   \n",
              "2        https://vk.com/wall-216943317_566      9      0    0        0   \n",
              "3        https://vk.com/wall-216943317_565     15      0    0        0   \n",
              "5        https://vk.com/wall-216943317_558     22      0    0        0   \n",
              "...                                    ...    ...    ...  ...      ...   \n",
              "123155  https://vk.com/wall-171462215_4198      0      0    0        0   \n",
              "123156  https://vk.com/wall-171462215_4196      3      0    0        0   \n",
              "123157  https://vk.com/wall-171462215_4195      1      0    0        0   \n",
              "123158  https://vk.com/wall-171462215_4193      1      0    0        0   \n",
              "123160  https://vk.com/wall-180916324_1500      1      0    0        0   \n",
              "\n",
              "        sadness  bad  views  shares  community_id         post_id  \\\n",
              "0             0    0    632       0     180916324  180916324_1490   \n",
              "1             0    0    632       1     216943317   216943317_567   \n",
              "2             0    0    271       1     216943317   216943317_566   \n",
              "3             0    0    249       0     216943317   216943317_565   \n",
              "5             0    0    679       0     216943317   216943317_558   \n",
              "...         ...  ...    ...     ...           ...             ...   \n",
              "123155        0    0     88       0     171462215  171462215_4198   \n",
              "123156        0    0    100       0     171462215  171462215_4196   \n",
              "123157        0    0    116       0     171462215  171462215_4195   \n",
              "123158        0    0     94       0     171462215  171462215_4193   \n",
              "123160        0    0    283       0     180916324  180916324_1500   \n",
              "\n",
              "                 local_time  length  \n",
              "0       07-07-2023 15:39:16     131  \n",
              "1       07-07-2023 15:39:23      56  \n",
              "2       07-07-2023 15:39:23      78  \n",
              "3       07-07-2023 15:39:23      75  \n",
              "5       07-07-2023 15:39:23     104  \n",
              "...                     ...     ...  \n",
              "123155  07-07-2023 15:39:07      84  \n",
              "123156  07-07-2023 15:39:07     188  \n",
              "123157  07-07-2023 15:39:07      94  \n",
              "123158  07-07-2023 15:39:07     140  \n",
              "123160  07-07-2023 15:39:16     486  \n",
              "\n",
              "[84672 rows x 17 columns]"
            ],
            "text/html": [
              "\n",
              "\n",
              "  <div id=\"df-fa2efdc3-959d-43ca-8cda-0712e7d62b48\">\n",
              "    <div class=\"colab-df-container\">\n",
              "      <div>\n",
              "<style scoped>\n",
              "    .dataframe tbody tr th:only-of-type {\n",
              "        vertical-align: middle;\n",
              "    }\n",
              "\n",
              "    .dataframe tbody tr th {\n",
              "        vertical-align: top;\n",
              "    }\n",
              "\n",
              "    .dataframe thead th {\n",
              "        text-align: right;\n",
              "    }\n",
              "</style>\n",
              "<table border=\"1\" class=\"dataframe\">\n",
              "  <thead>\n",
              "    <tr style=\"text-align: right;\">\n",
              "      <th></th>\n",
              "      <th>id</th>\n",
              "      <th>text</th>\n",
              "      <th>view_hash</th>\n",
              "      <th>time</th>\n",
              "      <th>url</th>\n",
              "      <th>likes</th>\n",
              "      <th>funny</th>\n",
              "      <th>wow</th>\n",
              "      <th>delight</th>\n",
              "      <th>sadness</th>\n",
              "      <th>bad</th>\n",
              "      <th>views</th>\n",
              "      <th>shares</th>\n",
              "      <th>community_id</th>\n",
              "      <th>post_id</th>\n",
              "      <th>local_time</th>\n",
              "      <th>length</th>\n",
              "    </tr>\n",
              "  </thead>\n",
              "  <tbody>\n",
              "    <tr>\n",
              "      <th>0</th>\n",
              "      <td>1056</td>\n",
              "      <td>С днем защиты детей! В АРТКВАДРАТЕ прошёл конк...</td>\n",
              "      <td>2fb021d8a04054db2b</td>\n",
              "      <td>2 июн в 9:45</td>\n",
              "      <td>https://vk.com/wall-180916324_1490</td>\n",
              "      <td>5</td>\n",
              "      <td>0</td>\n",
              "      <td>0</td>\n",
              "      <td>0</td>\n",
              "      <td>0</td>\n",
              "      <td>0</td>\n",
              "      <td>632</td>\n",
              "      <td>0</td>\n",
              "      <td>180916324</td>\n",
              "      <td>180916324_1490</td>\n",
              "      <td>07-07-2023 15:39:16</td>\n",
              "      <td>131</td>\n",
              "    </tr>\n",
              "    <tr>\n",
              "      <th>1</th>\n",
              "      <td>1057</td>\n",
              "      <td>Сегодня с детьми младшей группы \"Капельки\" про...</td>\n",
              "      <td>2fb021d8a04054db2b</td>\n",
              "      <td>25 июн в 7:36</td>\n",
              "      <td>https://vk.com/wall-216943317_567</td>\n",
              "      <td>17</td>\n",
              "      <td>0</td>\n",
              "      <td>0</td>\n",
              "      <td>0</td>\n",
              "      <td>0</td>\n",
              "      <td>0</td>\n",
              "      <td>632</td>\n",
              "      <td>1</td>\n",
              "      <td>216943317</td>\n",
              "      <td>216943317_567</td>\n",
              "      <td>07-07-2023 15:39:23</td>\n",
              "      <td>56</td>\n",
              "    </tr>\n",
              "    <tr>\n",
              "      <th>2</th>\n",
              "      <td>1058</td>\n",
              "      <td>Мы идём, тик-так , идёмСтрелки крутим день за ...</td>\n",
              "      <td>2fb021d8a04054db2b</td>\n",
              "      <td>25 июн в 7:36</td>\n",
              "      <td>https://vk.com/wall-216943317_566</td>\n",
              "      <td>9</td>\n",
              "      <td>0</td>\n",
              "      <td>0</td>\n",
              "      <td>0</td>\n",
              "      <td>0</td>\n",
              "      <td>0</td>\n",
              "      <td>271</td>\n",
              "      <td>1</td>\n",
              "      <td>216943317</td>\n",
              "      <td>216943317_566</td>\n",
              "      <td>07-07-2023 15:39:23</td>\n",
              "      <td>78</td>\n",
              "    </tr>\n",
              "    <tr>\n",
              "      <th>3</th>\n",
              "      <td>1059</td>\n",
              "      <td>Всю-то ночь часы стучат.Ни минуты не молчат!Я ...</td>\n",
              "      <td>2fb021d8a04054db2b</td>\n",
              "      <td>25 июн в 7:36</td>\n",
              "      <td>https://vk.com/wall-216943317_565</td>\n",
              "      <td>15</td>\n",
              "      <td>0</td>\n",
              "      <td>0</td>\n",
              "      <td>0</td>\n",
              "      <td>0</td>\n",
              "      <td>0</td>\n",
              "      <td>249</td>\n",
              "      <td>0</td>\n",
              "      <td>216943317</td>\n",
              "      <td>216943317_565</td>\n",
              "      <td>07-07-2023 15:39:23</td>\n",
              "      <td>75</td>\n",
              "    </tr>\n",
              "    <tr>\n",
              "      <th>5</th>\n",
              "      <td>1061</td>\n",
              "      <td>Лето- время не только для отдыха и игр, но и в...</td>\n",
              "      <td>2fb021d8a04054db2b</td>\n",
              "      <td>23 июн в 5:45</td>\n",
              "      <td>https://vk.com/wall-216943317_558</td>\n",
              "      <td>22</td>\n",
              "      <td>0</td>\n",
              "      <td>0</td>\n",
              "      <td>0</td>\n",
              "      <td>0</td>\n",
              "      <td>0</td>\n",
              "      <td>679</td>\n",
              "      <td>0</td>\n",
              "      <td>216943317</td>\n",
              "      <td>216943317_558</td>\n",
              "      <td>07-07-2023 15:39:23</td>\n",
              "      <td>104</td>\n",
              "    </tr>\n",
              "    <tr>\n",
              "      <th>...</th>\n",
              "      <td>...</td>\n",
              "      <td>...</td>\n",
              "      <td>...</td>\n",
              "      <td>...</td>\n",
              "      <td>...</td>\n",
              "      <td>...</td>\n",
              "      <td>...</td>\n",
              "      <td>...</td>\n",
              "      <td>...</td>\n",
              "      <td>...</td>\n",
              "      <td>...</td>\n",
              "      <td>...</td>\n",
              "      <td>...</td>\n",
              "      <td>...</td>\n",
              "      <td>...</td>\n",
              "      <td>...</td>\n",
              "      <td>...</td>\n",
              "    </tr>\n",
              "    <tr>\n",
              "      <th>123155</th>\n",
              "      <td>1044</td>\n",
              "      <td>ПРИМИ УЧАСТИЕ В ПРАЗДНИЧНОМ ОНЛАЙН-ФЛЕШМОБЕ Еж...</td>\n",
              "      <td>2fb021d8a04054db2b</td>\n",
              "      <td>3 июл в 14:29</td>\n",
              "      <td>https://vk.com/wall-171462215_4198</td>\n",
              "      <td>0</td>\n",
              "      <td>0</td>\n",
              "      <td>0</td>\n",
              "      <td>0</td>\n",
              "      <td>0</td>\n",
              "      <td>0</td>\n",
              "      <td>88</td>\n",
              "      <td>0</td>\n",
              "      <td>171462215</td>\n",
              "      <td>171462215_4198</td>\n",
              "      <td>07-07-2023 15:39:07</td>\n",
              "      <td>84</td>\n",
              "    </tr>\n",
              "    <tr>\n",
              "      <th>123156</th>\n",
              "      <td>1045</td>\n",
              "      <td>ВЫСТАВКА ТВОРЧЕСКИЙ КАЛЕЙДОСКОП 22 июня в Цент...</td>\n",
              "      <td>2fb021d8a04054db2b</td>\n",
              "      <td>3 июл в 12:00</td>\n",
              "      <td>https://vk.com/wall-171462215_4196</td>\n",
              "      <td>3</td>\n",
              "      <td>0</td>\n",
              "      <td>0</td>\n",
              "      <td>0</td>\n",
              "      <td>0</td>\n",
              "      <td>0</td>\n",
              "      <td>100</td>\n",
              "      <td>0</td>\n",
              "      <td>171462215</td>\n",
              "      <td>171462215_4196</td>\n",
              "      <td>07-07-2023 15:39:07</td>\n",
              "      <td>188</td>\n",
              "    </tr>\n",
              "    <tr>\n",
              "      <th>123157</th>\n",
              "      <td>1046</td>\n",
              "      <td>ДЕТСКИЕ ДВОРОВЫЕ ПЛОЩАДКИ  Не знаете как прове...</td>\n",
              "      <td>2fb021d8a04054db2b</td>\n",
              "      <td>3 июл в 10:00</td>\n",
              "      <td>https://vk.com/wall-171462215_4195</td>\n",
              "      <td>1</td>\n",
              "      <td>0</td>\n",
              "      <td>0</td>\n",
              "      <td>0</td>\n",
              "      <td>0</td>\n",
              "      <td>0</td>\n",
              "      <td>116</td>\n",
              "      <td>0</td>\n",
              "      <td>171462215</td>\n",
              "      <td>171462215_4195</td>\n",
              "      <td>07-07-2023 15:39:07</td>\n",
              "      <td>94</td>\n",
              "    </tr>\n",
              "    <tr>\n",
              "      <th>123158</th>\n",
              "      <td>1047</td>\n",
              "      <td>Сегодня в парке «Первомайский» состоялось торж...</td>\n",
              "      <td>2fb021d8a04054db2b</td>\n",
              "      <td>1 июл в 20:00</td>\n",
              "      <td>https://vk.com/wall-171462215_4193</td>\n",
              "      <td>1</td>\n",
              "      <td>0</td>\n",
              "      <td>0</td>\n",
              "      <td>0</td>\n",
              "      <td>0</td>\n",
              "      <td>0</td>\n",
              "      <td>94</td>\n",
              "      <td>0</td>\n",
              "      <td>171462215</td>\n",
              "      <td>171462215_4193</td>\n",
              "      <td>07-07-2023 15:39:07</td>\n",
              "      <td>140</td>\n",
              "    </tr>\n",
              "    <tr>\n",
              "      <th>123160</th>\n",
              "      <td>1049</td>\n",
              "      <td>С 26 по 28 июня 2023 года в Уфе состоится юбил...</td>\n",
              "      <td>2fb021d8a04054db2b</td>\n",
              "      <td>21 июн в 15:14</td>\n",
              "      <td>https://vk.com/wall-180916324_1500</td>\n",
              "      <td>1</td>\n",
              "      <td>0</td>\n",
              "      <td>0</td>\n",
              "      <td>0</td>\n",
              "      <td>0</td>\n",
              "      <td>0</td>\n",
              "      <td>283</td>\n",
              "      <td>0</td>\n",
              "      <td>180916324</td>\n",
              "      <td>180916324_1500</td>\n",
              "      <td>07-07-2023 15:39:16</td>\n",
              "      <td>486</td>\n",
              "    </tr>\n",
              "  </tbody>\n",
              "</table>\n",
              "<p>84672 rows × 17 columns</p>\n",
              "</div>\n",
              "      <button class=\"colab-df-convert\" onclick=\"convertToInteractive('df-fa2efdc3-959d-43ca-8cda-0712e7d62b48')\"\n",
              "              title=\"Convert this dataframe to an interactive table.\"\n",
              "              style=\"display:none;\">\n",
              "\n",
              "  <svg xmlns=\"http://www.w3.org/2000/svg\" height=\"24px\"viewBox=\"0 0 24 24\"\n",
              "       width=\"24px\">\n",
              "    <path d=\"M0 0h24v24H0V0z\" fill=\"none\"/>\n",
              "    <path d=\"M18.56 5.44l.94 2.06.94-2.06 2.06-.94-2.06-.94-.94-2.06-.94 2.06-2.06.94zm-11 1L8.5 8.5l.94-2.06 2.06-.94-2.06-.94L8.5 2.5l-.94 2.06-2.06.94zm10 10l.94 2.06.94-2.06 2.06-.94-2.06-.94-.94-2.06-.94 2.06-2.06.94z\"/><path d=\"M17.41 7.96l-1.37-1.37c-.4-.4-.92-.59-1.43-.59-.52 0-1.04.2-1.43.59L10.3 9.45l-7.72 7.72c-.78.78-.78 2.05 0 2.83L4 21.41c.39.39.9.59 1.41.59.51 0 1.02-.2 1.41-.59l7.78-7.78 2.81-2.81c.8-.78.8-2.07 0-2.86zM5.41 20L4 18.59l7.72-7.72 1.47 1.35L5.41 20z\"/>\n",
              "  </svg>\n",
              "      </button>\n",
              "\n",
              "\n",
              "\n",
              "    <div id=\"df-35118b55-94e0-427a-8a30-df85cf4024f9\">\n",
              "      <button class=\"colab-df-quickchart\" onclick=\"quickchart('df-35118b55-94e0-427a-8a30-df85cf4024f9')\"\n",
              "              title=\"Suggest charts.\"\n",
              "              style=\"display:none;\">\n",
              "\n",
              "<svg xmlns=\"http://www.w3.org/2000/svg\" height=\"24px\"viewBox=\"0 0 24 24\"\n",
              "     width=\"24px\">\n",
              "    <g>\n",
              "        <path d=\"M19 3H5c-1.1 0-2 .9-2 2v14c0 1.1.9 2 2 2h14c1.1 0 2-.9 2-2V5c0-1.1-.9-2-2-2zM9 17H7v-7h2v7zm4 0h-2V7h2v10zm4 0h-2v-4h2v4z\"/>\n",
              "    </g>\n",
              "</svg>\n",
              "      </button>\n",
              "    </div>\n",
              "\n",
              "<style>\n",
              "  .colab-df-quickchart {\n",
              "    background-color: #E8F0FE;\n",
              "    border: none;\n",
              "    border-radius: 50%;\n",
              "    cursor: pointer;\n",
              "    display: none;\n",
              "    fill: #1967D2;\n",
              "    height: 32px;\n",
              "    padding: 0 0 0 0;\n",
              "    width: 32px;\n",
              "  }\n",
              "\n",
              "  .colab-df-quickchart:hover {\n",
              "    background-color: #E2EBFA;\n",
              "    box-shadow: 0px 1px 2px rgba(60, 64, 67, 0.3), 0px 1px 3px 1px rgba(60, 64, 67, 0.15);\n",
              "    fill: #174EA6;\n",
              "  }\n",
              "\n",
              "  [theme=dark] .colab-df-quickchart {\n",
              "    background-color: #3B4455;\n",
              "    fill: #D2E3FC;\n",
              "  }\n",
              "\n",
              "  [theme=dark] .colab-df-quickchart:hover {\n",
              "    background-color: #434B5C;\n",
              "    box-shadow: 0px 1px 3px 1px rgba(0, 0, 0, 0.15);\n",
              "    filter: drop-shadow(0px 1px 2px rgba(0, 0, 0, 0.3));\n",
              "    fill: #FFFFFF;\n",
              "  }\n",
              "</style>\n",
              "\n",
              "    <script>\n",
              "      async function quickchart(key) {\n",
              "        const containerElement = document.querySelector('#' + key);\n",
              "        const charts = await google.colab.kernel.invokeFunction(\n",
              "            'suggestCharts', [key], {});\n",
              "      }\n",
              "    </script>\n",
              "\n",
              "      <script>\n",
              "\n",
              "function displayQuickchartButton(domScope) {\n",
              "  let quickchartButtonEl =\n",
              "    domScope.querySelector('#df-35118b55-94e0-427a-8a30-df85cf4024f9 button.colab-df-quickchart');\n",
              "  quickchartButtonEl.style.display =\n",
              "    google.colab.kernel.accessAllowed ? 'block' : 'none';\n",
              "}\n",
              "\n",
              "        displayQuickchartButton(document);\n",
              "      </script>\n",
              "      <style>\n",
              "    .colab-df-container {\n",
              "      display:flex;\n",
              "      flex-wrap:wrap;\n",
              "      gap: 12px;\n",
              "    }\n",
              "\n",
              "    .colab-df-convert {\n",
              "      background-color: #E8F0FE;\n",
              "      border: none;\n",
              "      border-radius: 50%;\n",
              "      cursor: pointer;\n",
              "      display: none;\n",
              "      fill: #1967D2;\n",
              "      height: 32px;\n",
              "      padding: 0 0 0 0;\n",
              "      width: 32px;\n",
              "    }\n",
              "\n",
              "    .colab-df-convert:hover {\n",
              "      background-color: #E2EBFA;\n",
              "      box-shadow: 0px 1px 2px rgba(60, 64, 67, 0.3), 0px 1px 3px 1px rgba(60, 64, 67, 0.15);\n",
              "      fill: #174EA6;\n",
              "    }\n",
              "\n",
              "    [theme=dark] .colab-df-convert {\n",
              "      background-color: #3B4455;\n",
              "      fill: #D2E3FC;\n",
              "    }\n",
              "\n",
              "    [theme=dark] .colab-df-convert:hover {\n",
              "      background-color: #434B5C;\n",
              "      box-shadow: 0px 1px 3px 1px rgba(0, 0, 0, 0.15);\n",
              "      filter: drop-shadow(0px 1px 2px rgba(0, 0, 0, 0.3));\n",
              "      fill: #FFFFFF;\n",
              "    }\n",
              "  </style>\n",
              "\n",
              "      <script>\n",
              "        const buttonEl =\n",
              "          document.querySelector('#df-fa2efdc3-959d-43ca-8cda-0712e7d62b48 button.colab-df-convert');\n",
              "        buttonEl.style.display =\n",
              "          google.colab.kernel.accessAllowed ? 'block' : 'none';\n",
              "\n",
              "        async function convertToInteractive(key) {\n",
              "          const element = document.querySelector('#df-fa2efdc3-959d-43ca-8cda-0712e7d62b48');\n",
              "          const dataTable =\n",
              "            await google.colab.kernel.invokeFunction('convertToInteractive',\n",
              "                                                     [key], {});\n",
              "          if (!dataTable) return;\n",
              "\n",
              "          const docLinkHtml = 'Like what you see? Visit the ' +\n",
              "            '<a target=\"_blank\" href=https://colab.research.google.com/notebooks/data_table.ipynb>data table notebook</a>'\n",
              "            + ' to learn more about interactive tables.';\n",
              "          element.innerHTML = '';\n",
              "          dataTable['output_type'] = 'display_data';\n",
              "          await google.colab.output.renderOutput(dataTable, element);\n",
              "          const docLink = document.createElement('div');\n",
              "          docLink.innerHTML = docLinkHtml;\n",
              "          element.appendChild(docLink);\n",
              "        }\n",
              "      </script>\n",
              "    </div>\n",
              "  </div>\n"
            ]
          },
          "metadata": {},
          "execution_count": 62
        }
      ]
    },
    {
      "cell_type": "code",
      "source": [
        "df['text']"
      ],
      "metadata": {
        "colab": {
          "base_uri": "https://localhost:8080/"
        },
        "id": "mp291yJfILVr",
        "outputId": "b656ba7f-b0d3-4fc4-edee-614864a72441"
      },
      "execution_count": 63,
      "outputs": [
        {
          "output_type": "execute_result",
          "data": {
            "text/plain": [
              "0         С днем защиты детей! В АРТКВАДРАТЕ прошёл конк...\n",
              "1         Сегодня с детьми младшей группы \"Капельки\" про...\n",
              "2         Мы идём, тик-так , идёмСтрелки крутим день за ...\n",
              "3         Всю-то ночь часы стучат.Ни минуты не молчат!Я ...\n",
              "5         Лето- время не только для отдыха и игр, но и в...\n",
              "                                ...                        \n",
              "123155    ПРИМИ УЧАСТИЕ В ПРАЗДНИЧНОМ ОНЛАЙН-ФЛЕШМОБЕ Еж...\n",
              "123156    ВЫСТАВКА ТВОРЧЕСКИЙ КАЛЕЙДОСКОП 22 июня в Цент...\n",
              "123157    ДЕТСКИЕ ДВОРОВЫЕ ПЛОЩАДКИ  Не знаете как прове...\n",
              "123158    Сегодня в парке «Первомайский» состоялось торж...\n",
              "123160    С 26 по 28 июня 2023 года в Уфе состоится юбил...\n",
              "Name: text, Length: 84672, dtype: object"
            ]
          },
          "metadata": {},
          "execution_count": 63
        }
      ]
    },
    {
      "cell_type": "code",
      "source": [
        "print(df['text'].iloc[2])"
      ],
      "metadata": {
        "colab": {
          "base_uri": "https://localhost:8080/"
        },
        "id": "gA3SigfNITyq",
        "outputId": "d7f297c3-1a1b-45ca-afa1-948d9d3c2e31"
      },
      "execution_count": 64,
      "outputs": [
        {
          "output_type": "stream",
          "name": "stdout",
          "text": [
            "Мы идём, тик-так , идёмСтрелки крутим день за днём,Чтобы вы не опоздали,Чтобы раньше всех вставали!Прозвоним мы в нужный час -Позовём на завтрак вас!Показать ещёМы идём, тик-так, идём,Но лентяев мы не ждём!Познавательная беседа о времени и о часах в старшей группе .Задачи:-знакомить детей с понятием \"часы\" и с историей их возникновения -воспитывать любознательность ,бережное отношение ко времени\n"
          ]
        }
      ]
    },
    {
      "cell_type": "code",
      "source": [
        "\n",
        "def clean(text):\n",
        "  text =  re.sub('[http|www].*', '', text)\n",
        "  text = re.sub('[#|@][А-яЁёA-z]', '', text)\n",
        "\n",
        "  return text\n",
        "\n",
        "df['text'] = df['text'].apply(clean)"
      ],
      "metadata": {
        "id": "lWtBT9PtF2Td"
      },
      "execution_count": 98,
      "outputs": []
    },
    {
      "cell_type": "code",
      "source": [
        "df['text'].iloc[19]"
      ],
      "metadata": {
        "colab": {
          "base_uri": "https://localhost:8080/",
          "height": 182
        },
        "id": "NjsdFULnF8Co",
        "outputId": "56feb532-c04e-428a-acc0-23f436438939"
      },
      "execution_count": 99,
      "outputs": [
        {
          "output_type": "execute_result",
          "data": {
            "text/plain": [
              "' Лучший детский сад Башкирии : муниципальный этап народного голосования Совместно с Министерством образования и науки РБ запускаем муниципальный этап голосования по лучшему Детскому саду Башкирии по мнению жителей региона. Показать ещё Муниципальный этап голосования пройдёт с 21 июня по 18 июля 2023 года в сообществе Башкирия Online. Региональный этап голосования( участники — победители муниципального этапа голосования + лучшие по числу голосов среди занявших 2 и 3 места) пройдёт с 19 июля по 18 августа 2023 года в сообществе ИА\" Башинформ\". Подведение итогов конкурса состоится в августе 2023 года. Торжественное награждение победителей состоится 27 сентября - в День работников дошкольного образования. Чтобы проголосовать, перейдите по ссылке своего муниципалитета и выберите участника : ГО г. Агидель : '"
            ],
            "application/vnd.google.colaboratory.intrinsic+json": {
              "type": "string"
            }
          },
          "metadata": {},
          "execution_count": 99
        }
      ]
    },
    {
      "cell_type": "code",
      "source": [
        "from razdel import tokenize\n",
        "from tqdm import tqdm\n",
        "import re\n",
        "\n",
        "tqdm.pandas()\n",
        "\n",
        "def check_token(word):\n",
        "\n",
        "  m  = re.search('[а-яё][А-ЯЁ]', word)\n",
        "  if m:\n",
        "    word = word[:m.span()[0]+1]+'. '+word[m.span()[0]+1:]\n",
        "\n",
        "  return word\n",
        "\n",
        "def text2tokens(text):\n",
        "  signs = ('!', '?', ',', '.', '\"', ')', '(',)\n",
        "  tokens = ''\n",
        "  tokenized = list(tokenize(str(text)))\n",
        "\n",
        "  for token in tokenized:\n",
        "    token = check_token(token.text)\n",
        "    if any(sign in token for sign in signs) == False:\n",
        "      tokens += ' '\n",
        "\n",
        "    tokens += token\n",
        "\n",
        "  return tokens\n",
        "\n",
        "\n",
        "df['text'] = df['text'].progress_apply(text2tokens)\n"
      ],
      "metadata": {
        "colab": {
          "base_uri": "https://localhost:8080/"
        },
        "id": "DP0OEpkPSIJN",
        "outputId": "b65c08cd-005b-4896-afe7-baa21b377aec"
      },
      "execution_count": null,
      "outputs": [
        {
          "output_type": "stream",
          "name": "stderr",
          "text": [
            "100%|██████████| 84672/84672 [02:29<00:00, 568.06it/s]\n"
          ]
        }
      ]
    },
    {
      "cell_type": "code",
      "source": [
        "import emoji\n",
        "from translate import Translator\n",
        "\n",
        "translator= Translator(to_lang=\"ru\")\n",
        "\n",
        "def emoji2text(text, emoji, translator):\n",
        "\n",
        "  demojized = emoji.demojize(text)\n",
        "\n",
        "  while re.search(':[A-z]+:', text):\n",
        "    f = re.search(':[A-z]+:', text)\n",
        "\n",
        "    emoji = f.group(0)\n",
        "    print(emoji)\n",
        "    translated = translator.translate(str(emoji))\n",
        "\n",
        "    text = text[:f.span()[0]] + translated + text[f.span()[1]:]\n",
        "\n",
        "  return text\n",
        "\n",
        "\n",
        "df['text'] = df['text'].progress_apply(lambda x: emoji2text(x, emoji, translator))"
      ],
      "metadata": {
        "colab": {
          "base_uri": "https://localhost:8080/"
        },
        "id": "dyaTf2sHzZSg",
        "outputId": "4db43bf7-24f3-45d6-8d0f-5e204f604e8c"
      },
      "execution_count": null,
      "outputs": [
        {
          "output_type": "stream",
          "name": "stderr",
          "text": [
            "100%|██████████| 84672/84672 [01:27<00:00, 965.20it/s]\n"
          ]
        }
      ]
    },
    {
      "cell_type": "code",
      "source": [
        "df['text'].iloc[19]"
      ],
      "metadata": {
        "colab": {
          "base_uri": "https://localhost:8080/",
          "height": 182
        },
        "id": "1Wke9V-eEnbu",
        "outputId": "e0fb3eed-44ed-43df-f3a1-4dabefd62e74"
      },
      "execution_count": null,
      "outputs": [
        {
          "output_type": "execute_result",
          "data": {
            "text/plain": [
              "' Лучший детский сад Башкирии : муниципальный этап народного голосования Совместно с Министерством образования и науки РБ запускаем муниципальный этап голосования по лучшему Детскому саду Башкирии по мнению жителей региона. Показать ещё Муниципальный этап голосования пройдёт с 21 июня по 18 июля 2023 года в сообществе Башкирия Online. Региональный этап голосования( участники — победители муниципального этапа голосования + лучшие по числу голосов среди занявших 2 и 3 места) пройдёт с 19 июля по 18 августа 2023 года в сообществе ИА\" Башинформ\". Подведение итогов конкурса состоится в августе 2023 года. Торжественное награждение победителей состоится 27 сентября - в День работников дошкольного образования. Чтобы проголосовать, перейдите по ссылке своего муниципалитета и выберите участника : ГО г. Агидель :'"
            ],
            "application/vnd.google.colaboratory.intrinsic+json": {
              "type": "string"
            }
          },
          "metadata": {},
          "execution_count": 103
        }
      ]
    },
    {
      "cell_type": "code",
      "source": [
        "!pip install transformers"
      ],
      "metadata": {
        "colab": {
          "base_uri": "https://localhost:8080/"
        },
        "id": "kbqiSHcgBlAb",
        "outputId": "0ac1ce29-5edf-4dec-a7f0-e5abfac88f73"
      },
      "execution_count": 105,
      "outputs": [
        {
          "output_type": "stream",
          "name": "stdout",
          "text": [
            "Requirement already satisfied: transformers in /usr/local/lib/python3.10/dist-packages (4.30.2)\n",
            "Requirement already satisfied: filelock in /usr/local/lib/python3.10/dist-packages (from transformers) (3.12.2)\n",
            "Requirement already satisfied: huggingface-hub<1.0,>=0.14.1 in /usr/local/lib/python3.10/dist-packages (from transformers) (0.16.4)\n",
            "Requirement already satisfied: numpy>=1.17 in /usr/local/lib/python3.10/dist-packages (from transformers) (1.22.4)\n",
            "Requirement already satisfied: packaging>=20.0 in /usr/local/lib/python3.10/dist-packages (from transformers) (23.1)\n",
            "Requirement already satisfied: pyyaml>=5.1 in /usr/local/lib/python3.10/dist-packages (from transformers) (6.0)\n",
            "Requirement already satisfied: regex!=2019.12.17 in /usr/local/lib/python3.10/dist-packages (from transformers) (2022.10.31)\n",
            "Requirement already satisfied: requests in /usr/local/lib/python3.10/dist-packages (from transformers) (2.27.1)\n",
            "Requirement already satisfied: tokenizers!=0.11.3,<0.14,>=0.11.1 in /usr/local/lib/python3.10/dist-packages (from transformers) (0.13.3)\n",
            "Requirement already satisfied: safetensors>=0.3.1 in /usr/local/lib/python3.10/dist-packages (from transformers) (0.3.1)\n",
            "Requirement already satisfied: tqdm>=4.27 in /usr/local/lib/python3.10/dist-packages (from transformers) (4.65.0)\n",
            "Requirement already satisfied: fsspec in /usr/local/lib/python3.10/dist-packages (from huggingface-hub<1.0,>=0.14.1->transformers) (2023.6.0)\n",
            "Requirement already satisfied: typing-extensions>=3.7.4.3 in /usr/local/lib/python3.10/dist-packages (from huggingface-hub<1.0,>=0.14.1->transformers) (4.7.1)\n",
            "Requirement already satisfied: urllib3<1.27,>=1.21.1 in /usr/local/lib/python3.10/dist-packages (from requests->transformers) (1.26.16)\n",
            "Requirement already satisfied: certifi>=2017.4.17 in /usr/local/lib/python3.10/dist-packages (from requests->transformers) (2023.5.7)\n",
            "Requirement already satisfied: charset-normalizer~=2.0.0 in /usr/local/lib/python3.10/dist-packages (from requests->transformers) (2.0.12)\n",
            "Requirement already satisfied: idna<4,>=2.5 in /usr/local/lib/python3.10/dist-packages (from requests->transformers) (2.10)\n"
          ]
        }
      ]
    },
    {
      "cell_type": "code",
      "source": [
        "from vk_nlp.sentiment import Sentiment_classification, Emotion_detection, Toxicity_detection\n",
        "\n",
        "clf = Sentiment_classification()\n",
        "\n",
        "def classify(text):\n",
        "  try:\n",
        "    return clf.classify_text(text)\n",
        "  except:\n",
        "    return None\n",
        "\n",
        "\n",
        "df['sentiment'] = df['text'].progress_apply(classify)"
      ],
      "metadata": {
        "colab": {
          "base_uri": "https://localhost:8080/"
        },
        "id": "cO_qcdtPBI2F",
        "outputId": "5687bc0e-31c6-4caf-856a-7e8d271c6163"
      },
      "execution_count": null,
      "outputs": [
        {
          "output_type": "stream",
          "name": "stderr",
          "text": [
            "  2%|▏         | 1343/84672 [13:31<15:39:05,  1.48it/s]"
          ]
        }
      ]
    }
  ]
}